{
 "cells": [
  {
   "cell_type": "code",
   "execution_count": 1,
   "metadata": {},
   "outputs": [],
   "source": [
    "import pandas as pd\n",
    "\n",
    "# Đọc dữ liệu từ file CSV\n",
    "data = pd.read_csv('train.csv')\n"
   ]
  },
  {
   "cell_type": "code",
   "execution_count": 2,
   "metadata": {},
   "outputs": [],
   "source": [
    "features = ['Hours Studied', 'Previous Scores', 'Extracurricular Activities', 'Sleep Hours', 'Sample Question Papers Practiced']\n",
    "target = 'Performance Index'"
   ]
  },
  {
   "cell_type": "code",
   "execution_count": 3,
   "metadata": {},
   "outputs": [
    {
     "name": "stdout",
     "output_type": "stream",
     "text": [
      "Feature: Hours Studied, Mean R^2 Score: 0.13491391477220951\n",
      "Feature: Previous Scores, Mean R^2 Score: 0.8365819535716327\n",
      "Feature: Extracurricular Activities, Mean R^2 Score: -0.0008446721254732114\n",
      "Feature: Sleep Hours, Mean R^2 Score: 0.00022352944552286313\n",
      "Feature: Sample Question Papers Practiced, Mean R^2 Score: -2.217020897627986e-05\n"
     ]
    }
   ],
   "source": [
    "from sklearn.model_selection import cross_val_score, KFold\n",
    "from sklearn.linear_model import LinearRegression\n",
    "import numpy as np\n",
    "\n",
    "# Số lượng fold trong k-fold Cross Validation\n",
    "k = 5\n",
    "\n",
    "# Tạo đối tượng k-fold cross validation\n",
    "kf = KFold(n_splits=k, shuffle=True, random_state=1)\n",
    "\n",
    "# Khởi tạo mô hình hồi quy tuyến tính\n",
    "model = LinearRegression()\n",
    "\n",
    "# Lưu kết quả R^2 score của từng đặc trưng\n",
    "results = {}\n",
    "\n",
    "for feature in features:\n",
    "    X = data[[feature]]  # Chọn một đặc trưng duy nhất\n",
    "    y = data[target]     # Biến mục tiêu\n",
    "\n",
    "    # Tính R^2 score sử dụng cross_val_score\n",
    "    scores = cross_val_score(model, X, y, cv=kf, scoring='r2')\n",
    "\n",
    "    # Lưu lại kết quả trung bình\n",
    "    results[feature] = np.mean(scores)\n",
    "\n",
    "# In ra kết quả trung bình R^2 cho từng đặc trưng\n",
    "for feature, score in results.items():\n",
    "    print(f\"Feature: {feature}, Mean R^2 Score: {score}\")\n"
   ]
  },
  {
   "cell_type": "code",
   "execution_count": 4,
   "metadata": {},
   "outputs": [
    {
     "name": "stdout",
     "output_type": "stream",
     "text": [
      "The best feature is: Previous Scores with a mean R^2 score of: 0.8365819535716327\n"
     ]
    }
   ],
   "source": [
    "best_feature = max(results, key=results.get)\n",
    "print(f\"The best feature is: {best_feature} with a mean R^2 score of: {results[best_feature]}\")\n"
   ]
  },
  {
   "cell_type": "code",
   "execution_count": 5,
   "metadata": {},
   "outputs": [
    {
     "name": "stdout",
     "output_type": "stream",
     "text": [
      "Feature: Hours Studied, Fold R^2 Scores: [0.11986998 0.15947627 0.12373949 0.13091999 0.14056384], Mean R^2 Score: 0.13491391477220951\n",
      "Feature: Previous Scores, Fold R^2 Scores: [0.83608216 0.8352534  0.83671487 0.83534227 0.83951707], Mean R^2 Score: 0.8365819535716327\n",
      "Feature: Extracurricular Activities, Fold R^2 Scores: [-0.00456081  0.00149733  0.00066903  0.00091722 -0.00274613], Mean R^2 Score: -0.0008446721254732114\n",
      "Feature: Sleep Hours, Fold R^2 Scores: [-0.00291756 -0.00398398  0.00299927  0.00195723  0.00306268], Mean R^2 Score: 0.00022352944552286313\n",
      "Feature: Sample Question Papers Practiced, Fold R^2 Scores: [-0.00636833  0.00092356  0.00202353  0.00030237  0.00300803], Mean R^2 Score: -2.217020897627986e-05\n"
     ]
    }
   ],
   "source": [
    "for feature in features:\n",
    "    X = data[[feature]]\n",
    "    y = data[target]\n",
    "\n",
    "    # Lưu lại các giá trị R^2 score của từng fold\n",
    "    scores = cross_val_score(model, X, y, cv=kf, scoring='r2')\n",
    "    print(f\"Feature: {feature}, Fold R^2 Scores: {scores}, Mean R^2 Score: {np.mean(scores)}\")\n"
   ]
  }
 ],
 "metadata": {
  "kernelspec": {
   "display_name": "Python 3",
   "language": "python",
   "name": "python3"
  },
  "language_info": {
   "codemirror_mode": {
    "name": "ipython",
    "version": 3
   },
   "file_extension": ".py",
   "mimetype": "text/x-python",
   "name": "python",
   "nbconvert_exporter": "python",
   "pygments_lexer": "ipython3",
   "version": "3.12.0"
  }
 },
 "nbformat": 4,
 "nbformat_minor": 2
}
