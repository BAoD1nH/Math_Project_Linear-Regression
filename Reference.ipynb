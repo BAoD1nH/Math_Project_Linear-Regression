{
 "cells": [
  {
   "cell_type": "markdown",
   "metadata": {},
   "source": [
    "# <center>Đồ án 3: Linear Regression</center>"
   ]
  },
  {
   "cell_type": "markdown",
   "metadata": {},
   "source": [
    "# Thông tin sinh viên\n",
    "\n",
    "- Họ và tên: Đặng Ngọc Tiến\n",
    "- MSSV: 20127641\n",
    "- Lớp: 20CLC11"
   ]
  },
  {
   "cell_type": "markdown",
   "metadata": {},
   "source": [
    "# Import"
   ]
  },
  {
   "cell_type": "code",
   "execution_count": 1,
   "metadata": {},
   "outputs": [],
   "source": [
    "import pandas as pd\n",
    "import numpy as np\n",
    "import matplotlib.pyplot as plt\n",
    "import seaborn as sns\n",
    "\n",
    "# Import thêm dữ thư viện nếu cần\n",
    "from sklearn.model_selection import train_test_split\n",
    "\n"
   ]
  },
  {
   "cell_type": "markdown",
   "metadata": {},
   "source": [
    "# Đọc dữ liệu"
   ]
  },
  {
   "cell_type": "markdown",
   "metadata": {},
   "source": []
  },
  {
   "cell_type": "code",
   "execution_count": 2,
   "metadata": {},
   "outputs": [],
   "source": [
    "# Đọc dữ liệu bằng pandas\n",
    "train = pd.read_csv('train.csv')\n",
    "test = pd.read_csv('test.csv')\n",
    "\n",
    "# Lấy các đặc trưng X và giá trị mục tiêu y cho các tập huấn luyện (train) và kiểm tra (test)\n",
    "X_train = train.iloc[:, :-1]    # Dataframe (chứa 10 đặc trưng huấn luyện)\n",
    "y_train = train.iloc[:, -1]     # Series    (chứa 1 giá trị mục tiêu kiểm tra)\n",
    "\n",
    "X_test = test.iloc[:, :-1]      # Dataframe (chứa 10 đặc trưng kiểm tra)\n",
    "y_test = test.iloc[:, -1]       # Series    (chứa 1 giá trị mục tiêu kiểm tra)\n",
    "\n",
    "# Sinh viên có thể sử dụng các khác nếu cần"
   ]
  },
  {
   "cell_type": "markdown",
   "metadata": {},
   "source": [
    "# Cài đặt hàm"
   ]
  },
  {
   "cell_type": "code",
   "execution_count": 3,
   "metadata": {},
   "outputs": [],
   "source": [
    "# Cài đặt các hàm cần thiết ở đây\n",
    "\n",
    "# Hồi quy tuyến tính của cô Uyên dễ thương <3 \n",
    "class OLSLinearRegression:\n",
    "    def fit(self, X, y):\n",
    "        X_pinv = np.linalg.inv(X.T @ X) @ X.T    # np.linalg.pinv(X)\n",
    "        self.w = X_pinv @ y\n",
    "        return self\n",
    "\n",
    "    def get_params(self):\n",
    "        return self.w\n",
    "\n",
    "\n",
    "    def predict(self, X):\n",
    "        return np.sum(self.w.ravel() * X, axis=1)   \n",
    "\n",
    "# hàm tính RMSE\n",
    "def rmse(y, y_hat):\n",
    "    return np.sqrt(np.mean((y.ravel() - y_hat.ravel())**2))\n",
    "\n",
    "def get_features(correlation_threshold):\n",
    "    abs_corrs = np.abs(correlations)\n",
    "    high_corrs = abs_corrs[abs_corrs > correlation_threshold].index.values.tolist()\n",
    "    return high_corrs\n"
   ]
  },
  {
   "cell_type": "code",
   "execution_count": 4,
   "metadata": {},
   "outputs": [
    {
     "data": {
      "text/plain": [
       "0    2.193014\n",
       "1    0.817511\n",
       "2   -1.149285\n",
       "3   -1.505496\n",
       "4   -0.268546\n",
       "dtype: float64"
      ]
     },
     "execution_count": 4,
     "metadata": {},
     "output_type": "execute_result"
    }
   ],
   "source": [
    "# Phần code cho yêu cầu 1a\n",
    "model = OLSLinearRegression().fit(X_train, y_train)\n",
    "model.get_params()\n"
   ]
  },
  {
   "cell_type": "code",
   "execution_count": 5,
   "metadata": {},
   "outputs": [
    {
     "name": "stdout",
     "output_type": "stream",
     "text": [
      "RMSE: 6.0483169553942515\n"
     ]
    },
    {
     "name": "stderr",
     "output_type": "stream",
     "text": [
      "C:\\Users\\Admin\\AppData\\Local\\Temp\\ipykernel_8256\\486539680.py:15: FutureWarning: Series.ravel is deprecated. The underlying array is already 1D, so ravel is not necessary.  Use `to_numpy()` for conversion to a numpy array instead.\n",
      "  return np.sum(self.w.ravel() * X, axis=1)\n",
      "C:\\Users\\Admin\\AppData\\Local\\Temp\\ipykernel_8256\\486539680.py:19: FutureWarning: Series.ravel is deprecated. The underlying array is already 1D, so ravel is not necessary.  Use `to_numpy()` for conversion to a numpy array instead.\n",
      "  return np.sqrt(np.mean((y.ravel() - y_hat.ravel())**2))\n"
     ]
    }
   ],
   "source": [
    "# Gọi hàm RMSE (tự cài đặt hoặc từ thư viện) trên tập kiểm tra\n",
    "y_hat = model.predict(X_test)\n",
    "print('RMSE:', rmse(y_test, y_hat))"
   ]
  },
  {
   "cell_type": "markdown",
   "metadata": {},
   "source": [
    "Công thức hồi quy\n",
    "\n",
    "$$\\text{Life expectancy} = 0.015101*X_1 + 0.090220*X_2 + 0.042922*X_3 + 0.139289*X_4 + (-0.567333)*X_5 + (-0.000101)*X_6 + 0.740713*X_7 + 0.190936*X_8 + 24.505974*X_9 + 2.393517*X_{10}"
   ]
  },
  {
   "cell_type": "markdown",
   "metadata": {},
   "source": [
    "# Yêu cầu 1b: Xây dựng mô hình sử dụng duy nhất 1 đặc trưng, tìm mô hình cho kết quả tốt nhất (2 điểm)"
   ]
  },
  {
   "cell_type": "markdown",
   "metadata": {},
   "source": [
    "Lưu ý: khi sử dụng cross-validation, sinh viên cần xáo trộn dữ liệu 1 lần duy nhất và thực hiện trên toàn bộ đặc trưng"
   ]
  },
  {
   "cell_type": "code",
   "execution_count": 6,
   "metadata": {},
   "outputs": [
    {
     "name": "stdout",
     "output_type": "stream",
     "text": [
      "The best feature is: Previous Scores\n"
     ]
    },
    {
     "name": "stderr",
     "output_type": "stream",
     "text": [
      "C:\\Users\\Admin\\AppData\\Local\\Temp\\ipykernel_8256\\486539680.py:15: FutureWarning: Series.ravel is deprecated. The underlying array is already 1D, so ravel is not necessary.  Use `to_numpy()` for conversion to a numpy array instead.\n",
      "  return np.sum(self.w.ravel() * X, axis=1)\n",
      "C:\\Users\\Admin\\AppData\\Local\\Temp\\ipykernel_8256\\486539680.py:19: FutureWarning: Series.ravel is deprecated. The underlying array is already 1D, so ravel is not necessary.  Use `to_numpy()` for conversion to a numpy array instead.\n",
      "  return np.sqrt(np.mean((y.ravel() - y_hat.ravel())**2))\n",
      "C:\\Users\\Admin\\AppData\\Local\\Temp\\ipykernel_8256\\486539680.py:15: FutureWarning: Series.ravel is deprecated. The underlying array is already 1D, so ravel is not necessary.  Use `to_numpy()` for conversion to a numpy array instead.\n",
      "  return np.sum(self.w.ravel() * X, axis=1)\n",
      "C:\\Users\\Admin\\AppData\\Local\\Temp\\ipykernel_8256\\486539680.py:19: FutureWarning: Series.ravel is deprecated. The underlying array is already 1D, so ravel is not necessary.  Use `to_numpy()` for conversion to a numpy array instead.\n",
      "  return np.sqrt(np.mean((y.ravel() - y_hat.ravel())**2))\n",
      "C:\\Users\\Admin\\AppData\\Local\\Temp\\ipykernel_8256\\486539680.py:15: FutureWarning: Series.ravel is deprecated. The underlying array is already 1D, so ravel is not necessary.  Use `to_numpy()` for conversion to a numpy array instead.\n",
      "  return np.sum(self.w.ravel() * X, axis=1)\n",
      "C:\\Users\\Admin\\AppData\\Local\\Temp\\ipykernel_8256\\486539680.py:19: FutureWarning: Series.ravel is deprecated. The underlying array is already 1D, so ravel is not necessary.  Use `to_numpy()` for conversion to a numpy array instead.\n",
      "  return np.sqrt(np.mean((y.ravel() - y_hat.ravel())**2))\n",
      "C:\\Users\\Admin\\AppData\\Local\\Temp\\ipykernel_8256\\486539680.py:15: FutureWarning: Series.ravel is deprecated. The underlying array is already 1D, so ravel is not necessary.  Use `to_numpy()` for conversion to a numpy array instead.\n",
      "  return np.sum(self.w.ravel() * X, axis=1)\n",
      "C:\\Users\\Admin\\AppData\\Local\\Temp\\ipykernel_8256\\486539680.py:19: FutureWarning: Series.ravel is deprecated. The underlying array is already 1D, so ravel is not necessary.  Use `to_numpy()` for conversion to a numpy array instead.\n",
      "  return np.sqrt(np.mean((y.ravel() - y_hat.ravel())**2))\n",
      "C:\\Users\\Admin\\AppData\\Local\\Temp\\ipykernel_8256\\486539680.py:15: FutureWarning: Series.ravel is deprecated. The underlying array is already 1D, so ravel is not necessary.  Use `to_numpy()` for conversion to a numpy array instead.\n",
      "  return np.sum(self.w.ravel() * X, axis=1)\n",
      "C:\\Users\\Admin\\AppData\\Local\\Temp\\ipykernel_8256\\486539680.py:19: FutureWarning: Series.ravel is deprecated. The underlying array is already 1D, so ravel is not necessary.  Use `to_numpy()` for conversion to a numpy array instead.\n",
      "  return np.sqrt(np.mean((y.ravel() - y_hat.ravel())**2))\n",
      "C:\\Users\\Admin\\AppData\\Local\\Temp\\ipykernel_8256\\486539680.py:15: FutureWarning: Series.ravel is deprecated. The underlying array is already 1D, so ravel is not necessary.  Use `to_numpy()` for conversion to a numpy array instead.\n",
      "  return np.sum(self.w.ravel() * X, axis=1)\n",
      "C:\\Users\\Admin\\AppData\\Local\\Temp\\ipykernel_8256\\486539680.py:19: FutureWarning: Series.ravel is deprecated. The underlying array is already 1D, so ravel is not necessary.  Use `to_numpy()` for conversion to a numpy array instead.\n",
      "  return np.sqrt(np.mean((y.ravel() - y_hat.ravel())**2))\n",
      "C:\\Users\\Admin\\AppData\\Local\\Temp\\ipykernel_8256\\486539680.py:15: FutureWarning: Series.ravel is deprecated. The underlying array is already 1D, so ravel is not necessary.  Use `to_numpy()` for conversion to a numpy array instead.\n",
      "  return np.sum(self.w.ravel() * X, axis=1)\n",
      "C:\\Users\\Admin\\AppData\\Local\\Temp\\ipykernel_8256\\486539680.py:19: FutureWarning: Series.ravel is deprecated. The underlying array is already 1D, so ravel is not necessary.  Use `to_numpy()` for conversion to a numpy array instead.\n",
      "  return np.sqrt(np.mean((y.ravel() - y_hat.ravel())**2))\n",
      "C:\\Users\\Admin\\AppData\\Local\\Temp\\ipykernel_8256\\486539680.py:15: FutureWarning: Series.ravel is deprecated. The underlying array is already 1D, so ravel is not necessary.  Use `to_numpy()` for conversion to a numpy array instead.\n",
      "  return np.sum(self.w.ravel() * X, axis=1)\n",
      "C:\\Users\\Admin\\AppData\\Local\\Temp\\ipykernel_8256\\486539680.py:19: FutureWarning: Series.ravel is deprecated. The underlying array is already 1D, so ravel is not necessary.  Use `to_numpy()` for conversion to a numpy array instead.\n",
      "  return np.sqrt(np.mean((y.ravel() - y_hat.ravel())**2))\n",
      "C:\\Users\\Admin\\AppData\\Local\\Temp\\ipykernel_8256\\486539680.py:15: FutureWarning: Series.ravel is deprecated. The underlying array is already 1D, so ravel is not necessary.  Use `to_numpy()` for conversion to a numpy array instead.\n",
      "  return np.sum(self.w.ravel() * X, axis=1)\n",
      "C:\\Users\\Admin\\AppData\\Local\\Temp\\ipykernel_8256\\486539680.py:19: FutureWarning: Series.ravel is deprecated. The underlying array is already 1D, so ravel is not necessary.  Use `to_numpy()` for conversion to a numpy array instead.\n",
      "  return np.sqrt(np.mean((y.ravel() - y_hat.ravel())**2))\n",
      "C:\\Users\\Admin\\AppData\\Local\\Temp\\ipykernel_8256\\486539680.py:15: FutureWarning: Series.ravel is deprecated. The underlying array is already 1D, so ravel is not necessary.  Use `to_numpy()` for conversion to a numpy array instead.\n",
      "  return np.sum(self.w.ravel() * X, axis=1)\n",
      "C:\\Users\\Admin\\AppData\\Local\\Temp\\ipykernel_8256\\486539680.py:19: FutureWarning: Series.ravel is deprecated. The underlying array is already 1D, so ravel is not necessary.  Use `to_numpy()` for conversion to a numpy array instead.\n",
      "  return np.sqrt(np.mean((y.ravel() - y_hat.ravel())**2))\n",
      "C:\\Users\\Admin\\AppData\\Local\\Temp\\ipykernel_8256\\486539680.py:15: FutureWarning: Series.ravel is deprecated. The underlying array is already 1D, so ravel is not necessary.  Use `to_numpy()` for conversion to a numpy array instead.\n",
      "  return np.sum(self.w.ravel() * X, axis=1)\n",
      "C:\\Users\\Admin\\AppData\\Local\\Temp\\ipykernel_8256\\486539680.py:19: FutureWarning: Series.ravel is deprecated. The underlying array is already 1D, so ravel is not necessary.  Use `to_numpy()` for conversion to a numpy array instead.\n",
      "  return np.sqrt(np.mean((y.ravel() - y_hat.ravel())**2))\n",
      "C:\\Users\\Admin\\AppData\\Local\\Temp\\ipykernel_8256\\486539680.py:15: FutureWarning: Series.ravel is deprecated. The underlying array is already 1D, so ravel is not necessary.  Use `to_numpy()` for conversion to a numpy array instead.\n",
      "  return np.sum(self.w.ravel() * X, axis=1)\n",
      "C:\\Users\\Admin\\AppData\\Local\\Temp\\ipykernel_8256\\486539680.py:19: FutureWarning: Series.ravel is deprecated. The underlying array is already 1D, so ravel is not necessary.  Use `to_numpy()` for conversion to a numpy array instead.\n",
      "  return np.sqrt(np.mean((y.ravel() - y_hat.ravel())**2))\n",
      "C:\\Users\\Admin\\AppData\\Local\\Temp\\ipykernel_8256\\486539680.py:15: FutureWarning: Series.ravel is deprecated. The underlying array is already 1D, so ravel is not necessary.  Use `to_numpy()` for conversion to a numpy array instead.\n",
      "  return np.sum(self.w.ravel() * X, axis=1)\n",
      "C:\\Users\\Admin\\AppData\\Local\\Temp\\ipykernel_8256\\486539680.py:19: FutureWarning: Series.ravel is deprecated. The underlying array is already 1D, so ravel is not necessary.  Use `to_numpy()` for conversion to a numpy array instead.\n",
      "  return np.sqrt(np.mean((y.ravel() - y_hat.ravel())**2))\n",
      "C:\\Users\\Admin\\AppData\\Local\\Temp\\ipykernel_8256\\486539680.py:15: FutureWarning: Series.ravel is deprecated. The underlying array is already 1D, so ravel is not necessary.  Use `to_numpy()` for conversion to a numpy array instead.\n",
      "  return np.sum(self.w.ravel() * X, axis=1)\n",
      "C:\\Users\\Admin\\AppData\\Local\\Temp\\ipykernel_8256\\486539680.py:19: FutureWarning: Series.ravel is deprecated. The underlying array is already 1D, so ravel is not necessary.  Use `to_numpy()` for conversion to a numpy array instead.\n",
      "  return np.sqrt(np.mean((y.ravel() - y_hat.ravel())**2))\n",
      "C:\\Users\\Admin\\AppData\\Local\\Temp\\ipykernel_8256\\486539680.py:15: FutureWarning: Series.ravel is deprecated. The underlying array is already 1D, so ravel is not necessary.  Use `to_numpy()` for conversion to a numpy array instead.\n",
      "  return np.sum(self.w.ravel() * X, axis=1)\n",
      "C:\\Users\\Admin\\AppData\\Local\\Temp\\ipykernel_8256\\486539680.py:19: FutureWarning: Series.ravel is deprecated. The underlying array is already 1D, so ravel is not necessary.  Use `to_numpy()` for conversion to a numpy array instead.\n",
      "  return np.sqrt(np.mean((y.ravel() - y_hat.ravel())**2))\n",
      "C:\\Users\\Admin\\AppData\\Local\\Temp\\ipykernel_8256\\486539680.py:15: FutureWarning: Series.ravel is deprecated. The underlying array is already 1D, so ravel is not necessary.  Use `to_numpy()` for conversion to a numpy array instead.\n",
      "  return np.sum(self.w.ravel() * X, axis=1)\n",
      "C:\\Users\\Admin\\AppData\\Local\\Temp\\ipykernel_8256\\486539680.py:19: FutureWarning: Series.ravel is deprecated. The underlying array is already 1D, so ravel is not necessary.  Use `to_numpy()` for conversion to a numpy array instead.\n",
      "  return np.sqrt(np.mean((y.ravel() - y_hat.ravel())**2))\n",
      "C:\\Users\\Admin\\AppData\\Local\\Temp\\ipykernel_8256\\486539680.py:15: FutureWarning: Series.ravel is deprecated. The underlying array is already 1D, so ravel is not necessary.  Use `to_numpy()` for conversion to a numpy array instead.\n",
      "  return np.sum(self.w.ravel() * X, axis=1)\n",
      "C:\\Users\\Admin\\AppData\\Local\\Temp\\ipykernel_8256\\486539680.py:19: FutureWarning: Series.ravel is deprecated. The underlying array is already 1D, so ravel is not necessary.  Use `to_numpy()` for conversion to a numpy array instead.\n",
      "  return np.sqrt(np.mean((y.ravel() - y_hat.ravel())**2))\n",
      "C:\\Users\\Admin\\AppData\\Local\\Temp\\ipykernel_8256\\486539680.py:15: FutureWarning: Series.ravel is deprecated. The underlying array is already 1D, so ravel is not necessary.  Use `to_numpy()` for conversion to a numpy array instead.\n",
      "  return np.sum(self.w.ravel() * X, axis=1)\n",
      "C:\\Users\\Admin\\AppData\\Local\\Temp\\ipykernel_8256\\486539680.py:19: FutureWarning: Series.ravel is deprecated. The underlying array is already 1D, so ravel is not necessary.  Use `to_numpy()` for conversion to a numpy array instead.\n",
      "  return np.sqrt(np.mean((y.ravel() - y_hat.ravel())**2))\n",
      "C:\\Users\\Admin\\AppData\\Local\\Temp\\ipykernel_8256\\486539680.py:15: FutureWarning: Series.ravel is deprecated. The underlying array is already 1D, so ravel is not necessary.  Use `to_numpy()` for conversion to a numpy array instead.\n",
      "  return np.sum(self.w.ravel() * X, axis=1)\n",
      "C:\\Users\\Admin\\AppData\\Local\\Temp\\ipykernel_8256\\486539680.py:19: FutureWarning: Series.ravel is deprecated. The underlying array is already 1D, so ravel is not necessary.  Use `to_numpy()` for conversion to a numpy array instead.\n",
      "  return np.sqrt(np.mean((y.ravel() - y_hat.ravel())**2))\n",
      "C:\\Users\\Admin\\AppData\\Local\\Temp\\ipykernel_8256\\486539680.py:15: FutureWarning: Series.ravel is deprecated. The underlying array is already 1D, so ravel is not necessary.  Use `to_numpy()` for conversion to a numpy array instead.\n",
      "  return np.sum(self.w.ravel() * X, axis=1)\n",
      "C:\\Users\\Admin\\AppData\\Local\\Temp\\ipykernel_8256\\486539680.py:19: FutureWarning: Series.ravel is deprecated. The underlying array is already 1D, so ravel is not necessary.  Use `to_numpy()` for conversion to a numpy array instead.\n",
      "  return np.sqrt(np.mean((y.ravel() - y_hat.ravel())**2))\n",
      "C:\\Users\\Admin\\AppData\\Local\\Temp\\ipykernel_8256\\486539680.py:15: FutureWarning: Series.ravel is deprecated. The underlying array is already 1D, so ravel is not necessary.  Use `to_numpy()` for conversion to a numpy array instead.\n",
      "  return np.sum(self.w.ravel() * X, axis=1)\n",
      "C:\\Users\\Admin\\AppData\\Local\\Temp\\ipykernel_8256\\486539680.py:19: FutureWarning: Series.ravel is deprecated. The underlying array is already 1D, so ravel is not necessary.  Use `to_numpy()` for conversion to a numpy array instead.\n",
      "  return np.sqrt(np.mean((y.ravel() - y_hat.ravel())**2))\n",
      "C:\\Users\\Admin\\AppData\\Local\\Temp\\ipykernel_8256\\486539680.py:15: FutureWarning: Series.ravel is deprecated. The underlying array is already 1D, so ravel is not necessary.  Use `to_numpy()` for conversion to a numpy array instead.\n",
      "  return np.sum(self.w.ravel() * X, axis=1)\n",
      "C:\\Users\\Admin\\AppData\\Local\\Temp\\ipykernel_8256\\486539680.py:19: FutureWarning: Series.ravel is deprecated. The underlying array is already 1D, so ravel is not necessary.  Use `to_numpy()` for conversion to a numpy array instead.\n",
      "  return np.sqrt(np.mean((y.ravel() - y_hat.ravel())**2))\n",
      "C:\\Users\\Admin\\AppData\\Local\\Temp\\ipykernel_8256\\486539680.py:15: FutureWarning: Series.ravel is deprecated. The underlying array is already 1D, so ravel is not necessary.  Use `to_numpy()` for conversion to a numpy array instead.\n",
      "  return np.sum(self.w.ravel() * X, axis=1)\n",
      "C:\\Users\\Admin\\AppData\\Local\\Temp\\ipykernel_8256\\486539680.py:19: FutureWarning: Series.ravel is deprecated. The underlying array is already 1D, so ravel is not necessary.  Use `to_numpy()` for conversion to a numpy array instead.\n",
      "  return np.sqrt(np.mean((y.ravel() - y_hat.ravel())**2))\n",
      "C:\\Users\\Admin\\AppData\\Local\\Temp\\ipykernel_8256\\486539680.py:15: FutureWarning: Series.ravel is deprecated. The underlying array is already 1D, so ravel is not necessary.  Use `to_numpy()` for conversion to a numpy array instead.\n",
      "  return np.sum(self.w.ravel() * X, axis=1)\n",
      "C:\\Users\\Admin\\AppData\\Local\\Temp\\ipykernel_8256\\486539680.py:19: FutureWarning: Series.ravel is deprecated. The underlying array is already 1D, so ravel is not necessary.  Use `to_numpy()` for conversion to a numpy array instead.\n",
      "  return np.sqrt(np.mean((y.ravel() - y_hat.ravel())**2))\n",
      "C:\\Users\\Admin\\AppData\\Local\\Temp\\ipykernel_8256\\486539680.py:15: FutureWarning: Series.ravel is deprecated. The underlying array is already 1D, so ravel is not necessary.  Use `to_numpy()` for conversion to a numpy array instead.\n",
      "  return np.sum(self.w.ravel() * X, axis=1)\n",
      "C:\\Users\\Admin\\AppData\\Local\\Temp\\ipykernel_8256\\486539680.py:19: FutureWarning: Series.ravel is deprecated. The underlying array is already 1D, so ravel is not necessary.  Use `to_numpy()` for conversion to a numpy array instead.\n",
      "  return np.sqrt(np.mean((y.ravel() - y_hat.ravel())**2))\n"
     ]
    },
    {
     "data": {
      "text/html": [
       "<div>\n",
       "<style scoped>\n",
       "    .dataframe tbody tr th:only-of-type {\n",
       "        vertical-align: middle;\n",
       "    }\n",
       "\n",
       "    .dataframe tbody tr th {\n",
       "        vertical-align: top;\n",
       "    }\n",
       "\n",
       "    .dataframe thead th {\n",
       "        text-align: right;\n",
       "    }\n",
       "</style>\n",
       "<table border=\"1\" class=\"dataframe\">\n",
       "  <thead>\n",
       "    <tr style=\"text-align: right;\">\n",
       "      <th></th>\n",
       "      <th>Feature</th>\n",
       "      <th>RMSE</th>\n",
       "    </tr>\n",
       "  </thead>\n",
       "  <tbody>\n",
       "    <tr>\n",
       "      <th>0</th>\n",
       "      <td>Hours Studied</td>\n",
       "      <td>26.106033</td>\n",
       "    </tr>\n",
       "    <tr>\n",
       "      <th>1</th>\n",
       "      <td>Previous Scores</td>\n",
       "      <td>8.608980</td>\n",
       "    </tr>\n",
       "    <tr>\n",
       "      <th>2</th>\n",
       "      <td>Extracurricular Activities</td>\n",
       "      <td>42.683031</td>\n",
       "    </tr>\n",
       "    <tr>\n",
       "      <th>3</th>\n",
       "      <td>Sleep Hours</td>\n",
       "      <td>22.485752</td>\n",
       "    </tr>\n",
       "    <tr>\n",
       "      <th>4</th>\n",
       "      <td>Sample Question Papers Practiced</td>\n",
       "      <td>34.069722</td>\n",
       "    </tr>\n",
       "  </tbody>\n",
       "</table>\n",
       "</div>"
      ],
      "text/plain": [
       "                            Feature       RMSE\n",
       "0                     Hours Studied  26.106033\n",
       "1                   Previous Scores   8.608980\n",
       "2        Extracurricular Activities  42.683031\n",
       "3                       Sleep Hours  22.485752\n",
       "4  Sample Question Papers Practiced  34.069722"
      ]
     },
     "execution_count": 6,
     "metadata": {},
     "output_type": "execute_result"
    }
   ],
   "source": [
    "# Phần code cho yêu cầu 1b\n",
    "# Tìm ra đặc trưng tốt nhất\n",
    "# In ra các kết quả cross-validation như yêu cầu\n",
    "\n",
    "label = X_train.columns.values\n",
    "list_rmse = []\n",
    "n = 5\n",
    "for name in label:\n",
    "    if name == 'Life expectancy':\n",
    "        continue\n",
    "\n",
    "    X_train_clone = pd.Series.to_frame(X_train[name]).copy()\n",
    "    y_train_clone = y_train.copy()\n",
    "    train_X, test_X, train_y, test_y = train_test_split(X_train_clone, y_train_clone, shuffle = True, test_size=0.2)\n",
    "    RMSE = 0\n",
    "    for i in range(n):\n",
    "        lr = OLSLinearRegression()\n",
    "        lr.fit(train_X, train_y)\n",
    "        y_pred = lr.predict(test_X)\n",
    "        RMSE += rmse(test_y, y_pred)\n",
    "    list_rmse.append([name, RMSE/n])\n",
    "\n",
    "\n",
    "sorted_rmse = sorted(list_rmse, key=lambda x: x[1])\n",
    "min_rmse = sorted_rmse[0]\n",
    "print('The best feature is:', min_rmse[0])\n",
    "\n",
    "prediction = pd.DataFrame(list_rmse, columns=['Feature', 'RMSE'])\n",
    "prediction\n",
    "\n"
   ]
  },
  {
   "cell_type": "code",
   "execution_count": 7,
   "metadata": {},
   "outputs": [
    {
     "data": {
      "text/plain": [
       "array([0.80724882])"
      ]
     },
     "execution_count": 7,
     "metadata": {},
     "output_type": "execute_result"
    }
   ],
   "source": [
    "# Huấn luyện lại mô hình best_feature_model với đặc trưng tốt nhất trên toàn bộ tập huấn luyện\n",
    "X_train_best = X_train[min_rmse[0]].values.reshape(-1, 1)\n",
    "best_feature_model = OLSLinearRegression().fit(X_train_best, y_train)\n",
    "best_feature_model.get_params()"
   ]
  },
  {
   "cell_type": "code",
   "execution_count": 8,
   "metadata": {},
   "outputs": [
    {
     "name": "stdout",
     "output_type": "stream",
     "text": [
      "RMSE: 8.65896679095238\n"
     ]
    },
    {
     "name": "stderr",
     "output_type": "stream",
     "text": [
      "C:\\Users\\Admin\\AppData\\Local\\Temp\\ipykernel_8256\\486539680.py:19: FutureWarning: Series.ravel is deprecated. The underlying array is already 1D, so ravel is not necessary.  Use `to_numpy()` for conversion to a numpy array instead.\n",
      "  return np.sqrt(np.mean((y.ravel() - y_hat.ravel())**2))\n"
     ]
    }
   ],
   "source": [
    "# Gọi hàm RMSE (tự cài đặt hoặc từ thư viện) trên tập kiểm tra với mô hình best_feature_model\n",
    "y_hat_best = best_feature_model.predict(X_test[min_rmse[0]].values.reshape(-1, 1))\n",
    "print('RMSE:', rmse(y_test, y_hat_best))"
   ]
  },
  {
   "cell_type": "markdown",
   "metadata": {},
   "source": [
    "Công thức hồi quy\n",
    "\n",
    "$$\\text{Life expectancy} = 5.5573994*X$$"
   ]
  },
  {
   "cell_type": "markdown",
   "metadata": {},
   "source": [
    "# Yêu cầu 1c: Sinh viên tự xây dựng mô hình, tìm mô hình cho kết quả tốt nhất (3 điểm)"
   ]
  },
  {
   "cell_type": "markdown",
   "metadata": {},
   "source": [
    "Lưu ý: khi sử dụng cross-validation, sinh viên cần xáo trộn dữ liệu 1 lần duy nhất và thực hiện trên toàn bộ $m$ mô hình mà sinh viên thiết kế"
   ]
  },
  {
   "cell_type": "code",
   "execution_count": 9,
   "metadata": {},
   "outputs": [
    {
     "name": "stdout",
     "output_type": "stream",
     "text": [
      "Sample Question Papers Practiced    1.000000\n",
      "Hours Studied                       0.015852\n",
      "Extracurricular Activities          0.008199\n",
      "Previous Scores                     0.006417\n",
      "Sleep Hours                         0.005054\n",
      "Name: Sample Question Papers Practiced, dtype: float64\n"
     ]
    }
   ],
   "source": [
    "# Phần code cho yêu cầu 1c\n",
    "# Tìm ra mô hình tốt nhất (tự thiết kế bởi sinh viên)\n",
    "# In ra các kết quả cross-validation như yêu cầu\n",
    "\n",
    "correlations = X_train.corr()\n",
    "correlations = correlations.iloc[:, -1]\n",
    "correlations = correlations.sort_values(ascending=False)\n",
    "print(correlations)"
   ]
  },
  {
   "cell_type": "code",
   "execution_count": 10,
   "metadata": {},
   "outputs": [
    {
     "data": {
      "text/plain": [
       "<Axes: >"
      ]
     },
     "execution_count": 10,
     "metadata": {},
     "output_type": "execute_result"
    },
    {
     "data": {
      "image/png": "[encoded data removed]",
      "text/plain": [
       "<Figure size 1100x900 with 2 Axes>"
      ]
     },
     "metadata": {},
     "output_type": "display_data"
    }
   ],
   "source": [
    "corr_matrix = train.corr()\n",
    "fig, ax = plt.subplots(figsize=(11, 9))\n",
    "sns.heatmap(corr_matrix,cmap=\"Greens\", annot=True, linewidths=.5, ax = ax)"
   ]
  },
  {
   "cell_type": "code",
   "execution_count": 11,
   "metadata": {},
   "outputs": [],
   "source": [
    "p1 = get_features(0.1)\n",
    "p2 = get_features(0.25)\n",
    "p3 = get_features(0.5)\n",
    "p4 = get_features(0.75)\n",
    "y_tr = y_train.copy()\n",
    "p = [p1, p2, p3, p4]\n",
    "\n",
    "models1 = []\n",
    "\n",
    "for i in range(4):\n",
    "    X_1_train = X_train[p[i]].copy()\n",
    "    X_1_test = X_test[p[i]].copy()\n",
    "    models1.append(['Model ' + str(i+1), X_1_train, X_1_test])\n",
    "\n",
    "    X_sqrt_train = np.sqrt(X_train[p[i]]).copy()\n",
    "    X_sqrt_test = np.sqrt(X_test[p[i]]).copy()\n",
    "    models1.append(['Sqrt Model ' + str(i+1), X_sqrt_train, X_sqrt_test])\n",
    "\n",
    "  "
   ]
  },
  {
   "cell_type": "code",
   "execution_count": 12,
   "metadata": {},
   "outputs": [
    {
     "name": "stderr",
     "output_type": "stream",
     "text": [
      "C:\\Users\\Admin\\AppData\\Local\\Temp\\ipykernel_8256\\486539680.py:15: FutureWarning: Series.ravel is deprecated. The underlying array is already 1D, so ravel is not necessary.  Use `to_numpy()` for conversion to a numpy array instead.\n",
      "  return np.sum(self.w.ravel() * X, axis=1)\n",
      "C:\\Users\\Admin\\AppData\\Local\\Temp\\ipykernel_8256\\486539680.py:19: FutureWarning: Series.ravel is deprecated. The underlying array is already 1D, so ravel is not necessary.  Use `to_numpy()` for conversion to a numpy array instead.\n",
      "  return np.sqrt(np.mean((y.ravel() - y_hat.ravel())**2))\n",
      "C:\\Users\\Admin\\AppData\\Local\\Temp\\ipykernel_8256\\486539680.py:15: FutureWarning: Series.ravel is deprecated. The underlying array is already 1D, so ravel is not necessary.  Use `to_numpy()` for conversion to a numpy array instead.\n",
      "  return np.sum(self.w.ravel() * X, axis=1)\n",
      "C:\\Users\\Admin\\AppData\\Local\\Temp\\ipykernel_8256\\486539680.py:19: FutureWarning: Series.ravel is deprecated. The underlying array is already 1D, so ravel is not necessary.  Use `to_numpy()` for conversion to a numpy array instead.\n",
      "  return np.sqrt(np.mean((y.ravel() - y_hat.ravel())**2))\n",
      "C:\\Users\\Admin\\AppData\\Local\\Temp\\ipykernel_8256\\486539680.py:15: FutureWarning: Series.ravel is deprecated. The underlying array is already 1D, so ravel is not necessary.  Use `to_numpy()` for conversion to a numpy array instead.\n",
      "  return np.sum(self.w.ravel() * X, axis=1)\n",
      "C:\\Users\\Admin\\AppData\\Local\\Temp\\ipykernel_8256\\486539680.py:19: FutureWarning: Series.ravel is deprecated. The underlying array is already 1D, so ravel is not necessary.  Use `to_numpy()` for conversion to a numpy array instead.\n",
      "  return np.sqrt(np.mean((y.ravel() - y_hat.ravel())**2))\n",
      "C:\\Users\\Admin\\AppData\\Local\\Temp\\ipykernel_8256\\486539680.py:15: FutureWarning: Series.ravel is deprecated. The underlying array is already 1D, so ravel is not necessary.  Use `to_numpy()` for conversion to a numpy array instead.\n",
      "  return np.sum(self.w.ravel() * X, axis=1)\n",
      "C:\\Users\\Admin\\AppData\\Local\\Temp\\ipykernel_8256\\486539680.py:19: FutureWarning: Series.ravel is deprecated. The underlying array is already 1D, so ravel is not necessary.  Use `to_numpy()` for conversion to a numpy array instead.\n",
      "  return np.sqrt(np.mean((y.ravel() - y_hat.ravel())**2))\n",
      "C:\\Users\\Admin\\AppData\\Local\\Temp\\ipykernel_8256\\486539680.py:15: FutureWarning: Series.ravel is deprecated. The underlying array is already 1D, so ravel is not necessary.  Use `to_numpy()` for conversion to a numpy array instead.\n",
      "  return np.sum(self.w.ravel() * X, axis=1)\n",
      "C:\\Users\\Admin\\AppData\\Local\\Temp\\ipykernel_8256\\486539680.py:19: FutureWarning: Series.ravel is deprecated. The underlying array is already 1D, so ravel is not necessary.  Use `to_numpy()` for conversion to a numpy array instead.\n",
      "  return np.sqrt(np.mean((y.ravel() - y_hat.ravel())**2))\n",
      "C:\\Users\\Admin\\AppData\\Local\\Temp\\ipykernel_8256\\486539680.py:15: FutureWarning: Series.ravel is deprecated. The underlying array is already 1D, so ravel is not necessary.  Use `to_numpy()` for conversion to a numpy array instead.\n",
      "  return np.sum(self.w.ravel() * X, axis=1)\n",
      "C:\\Users\\Admin\\AppData\\Local\\Temp\\ipykernel_8256\\486539680.py:19: FutureWarning: Series.ravel is deprecated. The underlying array is already 1D, so ravel is not necessary.  Use `to_numpy()` for conversion to a numpy array instead.\n",
      "  return np.sqrt(np.mean((y.ravel() - y_hat.ravel())**2))\n",
      "C:\\Users\\Admin\\AppData\\Local\\Temp\\ipykernel_8256\\486539680.py:15: FutureWarning: Series.ravel is deprecated. The underlying array is already 1D, so ravel is not necessary.  Use `to_numpy()` for conversion to a numpy array instead.\n",
      "  return np.sum(self.w.ravel() * X, axis=1)\n",
      "C:\\Users\\Admin\\AppData\\Local\\Temp\\ipykernel_8256\\486539680.py:19: FutureWarning: Series.ravel is deprecated. The underlying array is already 1D, so ravel is not necessary.  Use `to_numpy()` for conversion to a numpy array instead.\n",
      "  return np.sqrt(np.mean((y.ravel() - y_hat.ravel())**2))\n",
      "C:\\Users\\Admin\\AppData\\Local\\Temp\\ipykernel_8256\\486539680.py:15: FutureWarning: Series.ravel is deprecated. The underlying array is already 1D, so ravel is not necessary.  Use `to_numpy()` for conversion to a numpy array instead.\n",
      "  return np.sum(self.w.ravel() * X, axis=1)\n",
      "C:\\Users\\Admin\\AppData\\Local\\Temp\\ipykernel_8256\\486539680.py:19: FutureWarning: Series.ravel is deprecated. The underlying array is already 1D, so ravel is not necessary.  Use `to_numpy()` for conversion to a numpy array instead.\n",
      "  return np.sqrt(np.mean((y.ravel() - y_hat.ravel())**2))\n",
      "C:\\Users\\Admin\\AppData\\Local\\Temp\\ipykernel_8256\\486539680.py:15: FutureWarning: Series.ravel is deprecated. The underlying array is already 1D, so ravel is not necessary.  Use `to_numpy()` for conversion to a numpy array instead.\n",
      "  return np.sum(self.w.ravel() * X, axis=1)\n",
      "C:\\Users\\Admin\\AppData\\Local\\Temp\\ipykernel_8256\\486539680.py:19: FutureWarning: Series.ravel is deprecated. The underlying array is already 1D, so ravel is not necessary.  Use `to_numpy()` for conversion to a numpy array instead.\n",
      "  return np.sqrt(np.mean((y.ravel() - y_hat.ravel())**2))\n",
      "C:\\Users\\Admin\\AppData\\Local\\Temp\\ipykernel_8256\\486539680.py:15: FutureWarning: Series.ravel is deprecated. The underlying array is already 1D, so ravel is not necessary.  Use `to_numpy()` for conversion to a numpy array instead.\n",
      "  return np.sum(self.w.ravel() * X, axis=1)\n",
      "C:\\Users\\Admin\\AppData\\Local\\Temp\\ipykernel_8256\\486539680.py:19: FutureWarning: Series.ravel is deprecated. The underlying array is already 1D, so ravel is not necessary.  Use `to_numpy()` for conversion to a numpy array instead.\n",
      "  return np.sqrt(np.mean((y.ravel() - y_hat.ravel())**2))\n",
      "C:\\Users\\Admin\\AppData\\Local\\Temp\\ipykernel_8256\\486539680.py:15: FutureWarning: Series.ravel is deprecated. The underlying array is already 1D, so ravel is not necessary.  Use `to_numpy()` for conversion to a numpy array instead.\n",
      "  return np.sum(self.w.ravel() * X, axis=1)\n",
      "C:\\Users\\Admin\\AppData\\Local\\Temp\\ipykernel_8256\\486539680.py:19: FutureWarning: Series.ravel is deprecated. The underlying array is already 1D, so ravel is not necessary.  Use `to_numpy()` for conversion to a numpy array instead.\n",
      "  return np.sqrt(np.mean((y.ravel() - y_hat.ravel())**2))\n",
      "C:\\Users\\Admin\\AppData\\Local\\Temp\\ipykernel_8256\\486539680.py:15: FutureWarning: Series.ravel is deprecated. The underlying array is already 1D, so ravel is not necessary.  Use `to_numpy()` for conversion to a numpy array instead.\n",
      "  return np.sum(self.w.ravel() * X, axis=1)\n",
      "C:\\Users\\Admin\\AppData\\Local\\Temp\\ipykernel_8256\\486539680.py:19: FutureWarning: Series.ravel is deprecated. The underlying array is already 1D, so ravel is not necessary.  Use `to_numpy()` for conversion to a numpy array instead.\n",
      "  return np.sqrt(np.mean((y.ravel() - y_hat.ravel())**2))\n",
      "C:\\Users\\Admin\\AppData\\Local\\Temp\\ipykernel_8256\\486539680.py:15: FutureWarning: Series.ravel is deprecated. The underlying array is already 1D, so ravel is not necessary.  Use `to_numpy()` for conversion to a numpy array instead.\n",
      "  return np.sum(self.w.ravel() * X, axis=1)\n",
      "C:\\Users\\Admin\\AppData\\Local\\Temp\\ipykernel_8256\\486539680.py:19: FutureWarning: Series.ravel is deprecated. The underlying array is already 1D, so ravel is not necessary.  Use `to_numpy()` for conversion to a numpy array instead.\n",
      "  return np.sqrt(np.mean((y.ravel() - y_hat.ravel())**2))\n",
      "C:\\Users\\Admin\\AppData\\Local\\Temp\\ipykernel_8256\\486539680.py:15: FutureWarning: Series.ravel is deprecated. The underlying array is already 1D, so ravel is not necessary.  Use `to_numpy()` for conversion to a numpy array instead.\n",
      "  return np.sum(self.w.ravel() * X, axis=1)\n",
      "C:\\Users\\Admin\\AppData\\Local\\Temp\\ipykernel_8256\\486539680.py:19: FutureWarning: Series.ravel is deprecated. The underlying array is already 1D, so ravel is not necessary.  Use `to_numpy()` for conversion to a numpy array instead.\n",
      "  return np.sqrt(np.mean((y.ravel() - y_hat.ravel())**2))\n",
      "C:\\Users\\Admin\\AppData\\Local\\Temp\\ipykernel_8256\\486539680.py:15: FutureWarning: Series.ravel is deprecated. The underlying array is already 1D, so ravel is not necessary.  Use `to_numpy()` for conversion to a numpy array instead.\n",
      "  return np.sum(self.w.ravel() * X, axis=1)\n",
      "C:\\Users\\Admin\\AppData\\Local\\Temp\\ipykernel_8256\\486539680.py:19: FutureWarning: Series.ravel is deprecated. The underlying array is already 1D, so ravel is not necessary.  Use `to_numpy()` for conversion to a numpy array instead.\n",
      "  return np.sqrt(np.mean((y.ravel() - y_hat.ravel())**2))\n",
      "C:\\Users\\Admin\\AppData\\Local\\Temp\\ipykernel_8256\\486539680.py:15: FutureWarning: Series.ravel is deprecated. The underlying array is already 1D, so ravel is not necessary.  Use `to_numpy()` for conversion to a numpy array instead.\n",
      "  return np.sum(self.w.ravel() * X, axis=1)\n",
      "C:\\Users\\Admin\\AppData\\Local\\Temp\\ipykernel_8256\\486539680.py:19: FutureWarning: Series.ravel is deprecated. The underlying array is already 1D, so ravel is not necessary.  Use `to_numpy()` for conversion to a numpy array instead.\n",
      "  return np.sqrt(np.mean((y.ravel() - y_hat.ravel())**2))\n",
      "C:\\Users\\Admin\\AppData\\Local\\Temp\\ipykernel_8256\\486539680.py:15: FutureWarning: Series.ravel is deprecated. The underlying array is already 1D, so ravel is not necessary.  Use `to_numpy()` for conversion to a numpy array instead.\n",
      "  return np.sum(self.w.ravel() * X, axis=1)\n",
      "C:\\Users\\Admin\\AppData\\Local\\Temp\\ipykernel_8256\\486539680.py:19: FutureWarning: Series.ravel is deprecated. The underlying array is already 1D, so ravel is not necessary.  Use `to_numpy()` for conversion to a numpy array instead.\n",
      "  return np.sqrt(np.mean((y.ravel() - y_hat.ravel())**2))\n",
      "C:\\Users\\Admin\\AppData\\Local\\Temp\\ipykernel_8256\\486539680.py:15: FutureWarning: Series.ravel is deprecated. The underlying array is already 1D, so ravel is not necessary.  Use `to_numpy()` for conversion to a numpy array instead.\n",
      "  return np.sum(self.w.ravel() * X, axis=1)\n",
      "C:\\Users\\Admin\\AppData\\Local\\Temp\\ipykernel_8256\\486539680.py:19: FutureWarning: Series.ravel is deprecated. The underlying array is already 1D, so ravel is not necessary.  Use `to_numpy()` for conversion to a numpy array instead.\n",
      "  return np.sqrt(np.mean((y.ravel() - y_hat.ravel())**2))\n",
      "C:\\Users\\Admin\\AppData\\Local\\Temp\\ipykernel_8256\\486539680.py:15: FutureWarning: Series.ravel is deprecated. The underlying array is already 1D, so ravel is not necessary.  Use `to_numpy()` for conversion to a numpy array instead.\n",
      "  return np.sum(self.w.ravel() * X, axis=1)\n",
      "C:\\Users\\Admin\\AppData\\Local\\Temp\\ipykernel_8256\\486539680.py:19: FutureWarning: Series.ravel is deprecated. The underlying array is already 1D, so ravel is not necessary.  Use `to_numpy()` for conversion to a numpy array instead.\n",
      "  return np.sqrt(np.mean((y.ravel() - y_hat.ravel())**2))\n",
      "C:\\Users\\Admin\\AppData\\Local\\Temp\\ipykernel_8256\\486539680.py:15: FutureWarning: Series.ravel is deprecated. The underlying array is already 1D, so ravel is not necessary.  Use `to_numpy()` for conversion to a numpy array instead.\n",
      "  return np.sum(self.w.ravel() * X, axis=1)\n",
      "C:\\Users\\Admin\\AppData\\Local\\Temp\\ipykernel_8256\\486539680.py:19: FutureWarning: Series.ravel is deprecated. The underlying array is already 1D, so ravel is not necessary.  Use `to_numpy()` for conversion to a numpy array instead.\n",
      "  return np.sqrt(np.mean((y.ravel() - y_hat.ravel())**2))\n",
      "C:\\Users\\Admin\\AppData\\Local\\Temp\\ipykernel_8256\\486539680.py:15: FutureWarning: Series.ravel is deprecated. The underlying array is already 1D, so ravel is not necessary.  Use `to_numpy()` for conversion to a numpy array instead.\n",
      "  return np.sum(self.w.ravel() * X, axis=1)\n",
      "C:\\Users\\Admin\\AppData\\Local\\Temp\\ipykernel_8256\\486539680.py:19: FutureWarning: Series.ravel is deprecated. The underlying array is already 1D, so ravel is not necessary.  Use `to_numpy()` for conversion to a numpy array instead.\n",
      "  return np.sqrt(np.mean((y.ravel() - y_hat.ravel())**2))\n",
      "C:\\Users\\Admin\\AppData\\Local\\Temp\\ipykernel_8256\\486539680.py:15: FutureWarning: Series.ravel is deprecated. The underlying array is already 1D, so ravel is not necessary.  Use `to_numpy()` for conversion to a numpy array instead.\n",
      "  return np.sum(self.w.ravel() * X, axis=1)\n",
      "C:\\Users\\Admin\\AppData\\Local\\Temp\\ipykernel_8256\\486539680.py:19: FutureWarning: Series.ravel is deprecated. The underlying array is already 1D, so ravel is not necessary.  Use `to_numpy()` for conversion to a numpy array instead.\n",
      "  return np.sqrt(np.mean((y.ravel() - y_hat.ravel())**2))\n",
      "C:\\Users\\Admin\\AppData\\Local\\Temp\\ipykernel_8256\\486539680.py:15: FutureWarning: Series.ravel is deprecated. The underlying array is already 1D, so ravel is not necessary.  Use `to_numpy()` for conversion to a numpy array instead.\n",
      "  return np.sum(self.w.ravel() * X, axis=1)\n",
      "C:\\Users\\Admin\\AppData\\Local\\Temp\\ipykernel_8256\\486539680.py:19: FutureWarning: Series.ravel is deprecated. The underlying array is already 1D, so ravel is not necessary.  Use `to_numpy()` for conversion to a numpy array instead.\n",
      "  return np.sqrt(np.mean((y.ravel() - y_hat.ravel())**2))\n",
      "C:\\Users\\Admin\\AppData\\Local\\Temp\\ipykernel_8256\\486539680.py:15: FutureWarning: Series.ravel is deprecated. The underlying array is already 1D, so ravel is not necessary.  Use `to_numpy()` for conversion to a numpy array instead.\n",
      "  return np.sum(self.w.ravel() * X, axis=1)\n",
      "C:\\Users\\Admin\\AppData\\Local\\Temp\\ipykernel_8256\\486539680.py:19: FutureWarning: Series.ravel is deprecated. The underlying array is already 1D, so ravel is not necessary.  Use `to_numpy()` for conversion to a numpy array instead.\n",
      "  return np.sqrt(np.mean((y.ravel() - y_hat.ravel())**2))\n",
      "C:\\Users\\Admin\\AppData\\Local\\Temp\\ipykernel_8256\\486539680.py:15: FutureWarning: Series.ravel is deprecated. The underlying array is already 1D, so ravel is not necessary.  Use `to_numpy()` for conversion to a numpy array instead.\n",
      "  return np.sum(self.w.ravel() * X, axis=1)\n",
      "C:\\Users\\Admin\\AppData\\Local\\Temp\\ipykernel_8256\\486539680.py:19: FutureWarning: Series.ravel is deprecated. The underlying array is already 1D, so ravel is not necessary.  Use `to_numpy()` for conversion to a numpy array instead.\n",
      "  return np.sqrt(np.mean((y.ravel() - y_hat.ravel())**2))\n",
      "C:\\Users\\Admin\\AppData\\Local\\Temp\\ipykernel_8256\\486539680.py:15: FutureWarning: Series.ravel is deprecated. The underlying array is already 1D, so ravel is not necessary.  Use `to_numpy()` for conversion to a numpy array instead.\n",
      "  return np.sum(self.w.ravel() * X, axis=1)\n",
      "C:\\Users\\Admin\\AppData\\Local\\Temp\\ipykernel_8256\\486539680.py:19: FutureWarning: Series.ravel is deprecated. The underlying array is already 1D, so ravel is not necessary.  Use `to_numpy()` for conversion to a numpy array instead.\n",
      "  return np.sqrt(np.mean((y.ravel() - y_hat.ravel())**2))\n",
      "C:\\Users\\Admin\\AppData\\Local\\Temp\\ipykernel_8256\\486539680.py:15: FutureWarning: Series.ravel is deprecated. The underlying array is already 1D, so ravel is not necessary.  Use `to_numpy()` for conversion to a numpy array instead.\n",
      "  return np.sum(self.w.ravel() * X, axis=1)\n",
      "C:\\Users\\Admin\\AppData\\Local\\Temp\\ipykernel_8256\\486539680.py:19: FutureWarning: Series.ravel is deprecated. The underlying array is already 1D, so ravel is not necessary.  Use `to_numpy()` for conversion to a numpy array instead.\n",
      "  return np.sqrt(np.mean((y.ravel() - y_hat.ravel())**2))\n",
      "C:\\Users\\Admin\\AppData\\Local\\Temp\\ipykernel_8256\\486539680.py:15: FutureWarning: Series.ravel is deprecated. The underlying array is already 1D, so ravel is not necessary.  Use `to_numpy()` for conversion to a numpy array instead.\n",
      "  return np.sum(self.w.ravel() * X, axis=1)\n",
      "C:\\Users\\Admin\\AppData\\Local\\Temp\\ipykernel_8256\\486539680.py:19: FutureWarning: Series.ravel is deprecated. The underlying array is already 1D, so ravel is not necessary.  Use `to_numpy()` for conversion to a numpy array instead.\n",
      "  return np.sqrt(np.mean((y.ravel() - y_hat.ravel())**2))\n",
      "C:\\Users\\Admin\\AppData\\Local\\Temp\\ipykernel_8256\\486539680.py:15: FutureWarning: Series.ravel is deprecated. The underlying array is already 1D, so ravel is not necessary.  Use `to_numpy()` for conversion to a numpy array instead.\n",
      "  return np.sum(self.w.ravel() * X, axis=1)\n",
      "C:\\Users\\Admin\\AppData\\Local\\Temp\\ipykernel_8256\\486539680.py:19: FutureWarning: Series.ravel is deprecated. The underlying array is already 1D, so ravel is not necessary.  Use `to_numpy()` for conversion to a numpy array instead.\n",
      "  return np.sqrt(np.mean((y.ravel() - y_hat.ravel())**2))\n",
      "C:\\Users\\Admin\\AppData\\Local\\Temp\\ipykernel_8256\\486539680.py:15: FutureWarning: Series.ravel is deprecated. The underlying array is already 1D, so ravel is not necessary.  Use `to_numpy()` for conversion to a numpy array instead.\n",
      "  return np.sum(self.w.ravel() * X, axis=1)\n",
      "C:\\Users\\Admin\\AppData\\Local\\Temp\\ipykernel_8256\\486539680.py:19: FutureWarning: Series.ravel is deprecated. The underlying array is already 1D, so ravel is not necessary.  Use `to_numpy()` for conversion to a numpy array instead.\n",
      "  return np.sqrt(np.mean((y.ravel() - y_hat.ravel())**2))\n",
      "C:\\Users\\Admin\\AppData\\Local\\Temp\\ipykernel_8256\\486539680.py:15: FutureWarning: Series.ravel is deprecated. The underlying array is already 1D, so ravel is not necessary.  Use `to_numpy()` for conversion to a numpy array instead.\n",
      "  return np.sum(self.w.ravel() * X, axis=1)\n",
      "C:\\Users\\Admin\\AppData\\Local\\Temp\\ipykernel_8256\\486539680.py:19: FutureWarning: Series.ravel is deprecated. The underlying array is already 1D, so ravel is not necessary.  Use `to_numpy()` for conversion to a numpy array instead.\n",
      "  return np.sqrt(np.mean((y.ravel() - y_hat.ravel())**2))\n",
      "C:\\Users\\Admin\\AppData\\Local\\Temp\\ipykernel_8256\\486539680.py:15: FutureWarning: Series.ravel is deprecated. The underlying array is already 1D, so ravel is not necessary.  Use `to_numpy()` for conversion to a numpy array instead.\n",
      "  return np.sum(self.w.ravel() * X, axis=1)\n",
      "C:\\Users\\Admin\\AppData\\Local\\Temp\\ipykernel_8256\\486539680.py:19: FutureWarning: Series.ravel is deprecated. The underlying array is already 1D, so ravel is not necessary.  Use `to_numpy()` for conversion to a numpy array instead.\n",
      "  return np.sqrt(np.mean((y.ravel() - y_hat.ravel())**2))\n",
      "C:\\Users\\Admin\\AppData\\Local\\Temp\\ipykernel_8256\\486539680.py:15: FutureWarning: Series.ravel is deprecated. The underlying array is already 1D, so ravel is not necessary.  Use `to_numpy()` for conversion to a numpy array instead.\n",
      "  return np.sum(self.w.ravel() * X, axis=1)\n",
      "C:\\Users\\Admin\\AppData\\Local\\Temp\\ipykernel_8256\\486539680.py:19: FutureWarning: Series.ravel is deprecated. The underlying array is already 1D, so ravel is not necessary.  Use `to_numpy()` for conversion to a numpy array instead.\n",
      "  return np.sqrt(np.mean((y.ravel() - y_hat.ravel())**2))\n",
      "C:\\Users\\Admin\\AppData\\Local\\Temp\\ipykernel_8256\\486539680.py:15: FutureWarning: Series.ravel is deprecated. The underlying array is already 1D, so ravel is not necessary.  Use `to_numpy()` for conversion to a numpy array instead.\n",
      "  return np.sum(self.w.ravel() * X, axis=1)\n",
      "C:\\Users\\Admin\\AppData\\Local\\Temp\\ipykernel_8256\\486539680.py:19: FutureWarning: Series.ravel is deprecated. The underlying array is already 1D, so ravel is not necessary.  Use `to_numpy()` for conversion to a numpy array instead.\n",
      "  return np.sqrt(np.mean((y.ravel() - y_hat.ravel())**2))\n",
      "C:\\Users\\Admin\\AppData\\Local\\Temp\\ipykernel_8256\\486539680.py:15: FutureWarning: Series.ravel is deprecated. The underlying array is already 1D, so ravel is not necessary.  Use `to_numpy()` for conversion to a numpy array instead.\n",
      "  return np.sum(self.w.ravel() * X, axis=1)\n",
      "C:\\Users\\Admin\\AppData\\Local\\Temp\\ipykernel_8256\\486539680.py:19: FutureWarning: Series.ravel is deprecated. The underlying array is already 1D, so ravel is not necessary.  Use `to_numpy()` for conversion to a numpy array instead.\n",
      "  return np.sqrt(np.mean((y.ravel() - y_hat.ravel())**2))\n",
      "C:\\Users\\Admin\\AppData\\Local\\Temp\\ipykernel_8256\\486539680.py:15: FutureWarning: Series.ravel is deprecated. The underlying array is already 1D, so ravel is not necessary.  Use `to_numpy()` for conversion to a numpy array instead.\n",
      "  return np.sum(self.w.ravel() * X, axis=1)\n",
      "C:\\Users\\Admin\\AppData\\Local\\Temp\\ipykernel_8256\\486539680.py:19: FutureWarning: Series.ravel is deprecated. The underlying array is already 1D, so ravel is not necessary.  Use `to_numpy()` for conversion to a numpy array instead.\n",
      "  return np.sqrt(np.mean((y.ravel() - y_hat.ravel())**2))\n",
      "C:\\Users\\Admin\\AppData\\Local\\Temp\\ipykernel_8256\\486539680.py:15: FutureWarning: Series.ravel is deprecated. The underlying array is already 1D, so ravel is not necessary.  Use `to_numpy()` for conversion to a numpy array instead.\n",
      "  return np.sum(self.w.ravel() * X, axis=1)\n",
      "C:\\Users\\Admin\\AppData\\Local\\Temp\\ipykernel_8256\\486539680.py:19: FutureWarning: Series.ravel is deprecated. The underlying array is already 1D, so ravel is not necessary.  Use `to_numpy()` for conversion to a numpy array instead.\n",
      "  return np.sqrt(np.mean((y.ravel() - y_hat.ravel())**2))\n",
      "C:\\Users\\Admin\\AppData\\Local\\Temp\\ipykernel_8256\\486539680.py:15: FutureWarning: Series.ravel is deprecated. The underlying array is already 1D, so ravel is not necessary.  Use `to_numpy()` for conversion to a numpy array instead.\n",
      "  return np.sum(self.w.ravel() * X, axis=1)\n",
      "C:\\Users\\Admin\\AppData\\Local\\Temp\\ipykernel_8256\\486539680.py:19: FutureWarning: Series.ravel is deprecated. The underlying array is already 1D, so ravel is not necessary.  Use `to_numpy()` for conversion to a numpy array instead.\n",
      "  return np.sqrt(np.mean((y.ravel() - y_hat.ravel())**2))\n",
      "C:\\Users\\Admin\\AppData\\Local\\Temp\\ipykernel_8256\\486539680.py:15: FutureWarning: Series.ravel is deprecated. The underlying array is already 1D, so ravel is not necessary.  Use `to_numpy()` for conversion to a numpy array instead.\n",
      "  return np.sum(self.w.ravel() * X, axis=1)\n",
      "C:\\Users\\Admin\\AppData\\Local\\Temp\\ipykernel_8256\\486539680.py:19: FutureWarning: Series.ravel is deprecated. The underlying array is already 1D, so ravel is not necessary.  Use `to_numpy()` for conversion to a numpy array instead.\n",
      "  return np.sqrt(np.mean((y.ravel() - y_hat.ravel())**2))\n",
      "C:\\Users\\Admin\\AppData\\Local\\Temp\\ipykernel_8256\\486539680.py:15: FutureWarning: Series.ravel is deprecated. The underlying array is already 1D, so ravel is not necessary.  Use `to_numpy()` for conversion to a numpy array instead.\n",
      "  return np.sum(self.w.ravel() * X, axis=1)\n",
      "C:\\Users\\Admin\\AppData\\Local\\Temp\\ipykernel_8256\\486539680.py:19: FutureWarning: Series.ravel is deprecated. The underlying array is already 1D, so ravel is not necessary.  Use `to_numpy()` for conversion to a numpy array instead.\n",
      "  return np.sqrt(np.mean((y.ravel() - y_hat.ravel())**2))\n"
     ]
    },
    {
     "data": {
      "text/html": [
       "<div>\n",
       "<style scoped>\n",
       "    .dataframe tbody tr th:only-of-type {\n",
       "        vertical-align: middle;\n",
       "    }\n",
       "\n",
       "    .dataframe tbody tr th {\n",
       "        vertical-align: top;\n",
       "    }\n",
       "\n",
       "    .dataframe thead th {\n",
       "        text-align: right;\n",
       "    }\n",
       "</style>\n",
       "<table border=\"1\" class=\"dataframe\">\n",
       "  <thead>\n",
       "    <tr style=\"text-align: right;\">\n",
       "      <th></th>\n",
       "      <th>Feature</th>\n",
       "      <th>RMSE</th>\n",
       "    </tr>\n",
       "  </thead>\n",
       "  <tbody>\n",
       "    <tr>\n",
       "      <th>0</th>\n",
       "      <td>Model 1</td>\n",
       "      <td>34.060567</td>\n",
       "    </tr>\n",
       "    <tr>\n",
       "      <th>1</th>\n",
       "      <td>Sqrt Model 1</td>\n",
       "      <td>28.256753</td>\n",
       "    </tr>\n",
       "    <tr>\n",
       "      <th>2</th>\n",
       "      <td>Model 2</td>\n",
       "      <td>33.951529</td>\n",
       "    </tr>\n",
       "    <tr>\n",
       "      <th>3</th>\n",
       "      <td>Sqrt Model 2</td>\n",
       "      <td>28.857101</td>\n",
       "    </tr>\n",
       "    <tr>\n",
       "      <th>4</th>\n",
       "      <td>Model 3</td>\n",
       "      <td>34.570715</td>\n",
       "    </tr>\n",
       "    <tr>\n",
       "      <th>5</th>\n",
       "      <td>Sqrt Model 3</td>\n",
       "      <td>29.468105</td>\n",
       "    </tr>\n",
       "    <tr>\n",
       "      <th>6</th>\n",
       "      <td>Model 4</td>\n",
       "      <td>34.479970</td>\n",
       "    </tr>\n",
       "    <tr>\n",
       "      <th>7</th>\n",
       "      <td>Sqrt Model 4</td>\n",
       "      <td>29.064312</td>\n",
       "    </tr>\n",
       "  </tbody>\n",
       "</table>\n",
       "</div>"
      ],
      "text/plain": [
       "        Feature       RMSE\n",
       "0       Model 1  34.060567\n",
       "1  Sqrt Model 1  28.256753\n",
       "2       Model 2  33.951529\n",
       "3  Sqrt Model 2  28.857101\n",
       "4       Model 3  34.570715\n",
       "5  Sqrt Model 3  29.468105\n",
       "6       Model 4  34.479970\n",
       "7  Sqrt Model 4  29.064312"
      ]
     },
     "execution_count": 12,
     "metadata": {},
     "output_type": "execute_result"
    }
   ],
   "source": [
    "list_best = []\n",
    "\n",
    "for mod in models1:\n",
    "    train_X, test_X, train_y, test_y = train_test_split(mod[1], y_tr, shuffle = True, test_size=0.2)\n",
    "    RMSE = 0\n",
    "    for i in range(n):\n",
    "        lr = OLSLinearRegression()\n",
    "        lr.fit(train_X, train_y)\n",
    "        y_pred = lr.predict(test_X)\n",
    "        RMSE += rmse(test_y, y_pred)\n",
    "\n",
    "    list_best.append([mod[0], RMSE/n])\n",
    "\n",
    "\n",
    "prediction = pd.DataFrame(list_best, columns=['Feature', 'RMSE'])\n",
    "prediction"
   ]
  },
  {
   "cell_type": "code",
   "execution_count": 13,
   "metadata": {},
   "outputs": [
    {
     "data": {
      "text/plain": [
       "0    23.678481\n",
       "dtype: float64"
      ]
     },
     "execution_count": 13,
     "metadata": {},
     "output_type": "execute_result"
    }
   ],
   "source": [
    "X_best_model = np.sqrt(X_train[p[0]]).copy()\n",
    "y_best_model = y_train.copy()\n",
    "X_test_best_model = np.sqrt(X_test[p[0]]).copy()\n",
    "\n",
    "lr_best_model = OLSLinearRegression()\n",
    "lr_best_model.fit(X_best_model, y_best_model)\n",
    "lr_best_model.get_params()"
   ]
  },
  {
   "cell_type": "code",
   "execution_count": 14,
   "metadata": {},
   "outputs": [
    {
     "name": "stdout",
     "output_type": "stream",
     "text": [
      "RMSE: 29.542557606075484\n"
     ]
    },
    {
     "name": "stderr",
     "output_type": "stream",
     "text": [
      "C:\\Users\\Admin\\AppData\\Local\\Temp\\ipykernel_8256\\486539680.py:15: FutureWarning: Series.ravel is deprecated. The underlying array is already 1D, so ravel is not necessary.  Use `to_numpy()` for conversion to a numpy array instead.\n",
      "  return np.sum(self.w.ravel() * X, axis=1)\n",
      "C:\\Users\\Admin\\AppData\\Local\\Temp\\ipykernel_8256\\486539680.py:19: FutureWarning: Series.ravel is deprecated. The underlying array is already 1D, so ravel is not necessary.  Use `to_numpy()` for conversion to a numpy array instead.\n",
      "  return np.sqrt(np.mean((y.ravel() - y_hat.ravel())**2))\n"
     ]
    }
   ],
   "source": [
    "y_pred = lr_best_model.predict(X_test_best_model)\n",
    "print('RMSE:', rmse(y_test, y_pred))"
   ]
  },
  {
   "cell_type": "markdown",
   "metadata": {},
   "source": [
    "Công thức hồi quy\n",
    "\n",
    "$$\\text{Life expectancy} = 14.091507*\\sqrt{X_1} +  9.579369*\\sqrt{X_2} +  0.552901*\\sqrt{X_3} + 0.001705*\\sqrt{X_4} +0.801555*\\sqrt{X_5} + 0.186563*\\sqrt{X_6} + (-3.208658)*\\sqrt{X_7} + (-0.009331)*\\sqrt{X_8} + (-0.009752)*\\sqrt{X_9} +   1.818148*\\sqrt{X_{10} }$$"
   ]
  }
 ],
 "metadata": {
  "kernelspec": {
   "display_name": "Python 3.10.4 64-bit",
   "language": "python",
   "name": "python3"
  },
  "language_info": {
   "codemirror_mode": {
    "name": "ipython",
    "version": 3
   },
   "file_extension": ".py",
   "mimetype": "text/x-python",
   "name": "python",
   "nbconvert_exporter": "python",
   "pygments_lexer": "ipython3",
   "version": "3.12.0"
  },
  "orig_nbformat": 4,
  "vscode": {
   "interpreter": {
    "hash": "a42ccb73e7d9bfdf27e036f1d2b8b681e55fc0743cc5586bc2474d4a60f4b886"
   }
  }
 },
 "nbformat": 4,
 "nbformat_minor": 2
}
