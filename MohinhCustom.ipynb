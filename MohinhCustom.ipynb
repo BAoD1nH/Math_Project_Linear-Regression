{
 "cells": [
  {
   "cell_type": "code",
   "execution_count": 2,
   "metadata": {},
   "outputs": [],
   "source": [
    "import pandas as pd\n",
    "from sklearn.model_selection import cross_val_score, KFold\n",
    "from sklearn.preprocessing import StandardScaler\n",
    "from sklearn.linear_model import LinearRegression\n",
    "from sklearn.metrics import mean_absolute_error, make_scorer\n",
    "import numpy as np\n",
    "\n",
    "# Đọc dữ liệu từ file\n",
    "data = pd.read_csv('train.csv')\n",
    "\n",
    "# Giả sử dữ liệu có các cột: 'Hours Studied', 'Previous Scores', 'Extracurricular Activities', 'Sleep Hours', 'Sample Question Papers Practiced', 'Performance Index'\n",
    "X = data[['Hours Studied', 'Previous Scores', 'Extracurricular Activities', 'Sleep Hours', 'Sample Question Papers Practiced']]\n",
    "y = data['Performance Index']\n"
   ]
  },
  {
   "cell_type": "code",
   "execution_count": 3,
   "metadata": {},
   "outputs": [],
   "source": [
    "model1 = LinearRegression()"
   ]
  },
  {
   "cell_type": "code",
   "execution_count": 4,
   "metadata": {},
   "outputs": [],
   "source": [
    "scaler = StandardScaler()\n",
    "X_scaled = scaler.fit_transform(X)\n",
    "model2 = LinearRegression()\n"
   ]
  },
  {
   "cell_type": "code",
   "execution_count": 5,
   "metadata": {},
   "outputs": [],
   "source": [
    "from sklearn.preprocessing import PolynomialFeatures\n",
    "\n",
    "poly = PolynomialFeatures(degree=2, include_bias=False)\n",
    "X_poly = poly.fit_transform(X)\n",
    "model3 = LinearRegression()\n"
   ]
  },
  {
   "cell_type": "code",
   "execution_count": 6,
   "metadata": {},
   "outputs": [
    {
     "name": "stdout",
     "output_type": "stream",
     "text": [
      "Model 1 MAE: 1.6210767924783915\n",
      "Model 2 MAE: 1.6210767924783909\n",
      "Model 3 MAE: 1.6224282365323748\n"
     ]
    }
   ],
   "source": [
    "kf = KFold(n_splits=5, shuffle=True, random_state=1)\n",
    "mae_scorer = make_scorer(mean_absolute_error)\n",
    "\n",
    "# Đánh giá Model 1\n",
    "scores1 = cross_val_score(model1, X, y, cv=kf, scoring=mae_scorer)\n",
    "print(\"Model 1 MAE:\", np.mean(scores1))\n",
    "\n",
    "# Đánh giá Model 2\n",
    "scores2 = cross_val_score(model2, X_scaled, y, cv=kf, scoring=mae_scorer)\n",
    "print(\"Model 2 MAE:\", np.mean(scores2))\n",
    "\n",
    "# Đánh giá Model 3\n",
    "scores3 = cross_val_score(model3, X_poly, y, cv=kf, scoring=mae_scorer)\n",
    "print(\"Model 3 MAE:\", np.mean(scores3))\n"
   ]
  },
  {
   "cell_type": "code",
   "execution_count": 7,
   "metadata": {},
   "outputs": [
    {
     "name": "stdout",
     "output_type": "stream",
     "text": [
      "Average MAE for Model 1 (Raw Features): 1.6210767924783915\n",
      "Average MAE for Model 2 (Normalized Features): 1.6210767924783909\n",
      "Average MAE for Model 3 (Polynomial Features): 1.6224282365323748\n"
     ]
    }
   ],
   "source": [
    "print(\"Average MAE for Model 1 (Raw Features):\", np.mean(scores1))\n",
    "print(\"Average MAE for Model 2 (Normalized Features):\", np.mean(scores2))\n",
    "print(\"Average MAE for Model 3 (Polynomial Features):\", np.mean(scores3))"
   ]
  }
 ],
 "metadata": {
  "kernelspec": {
   "display_name": "Python 3",
   "language": "python",
   "name": "python3"
  },
  "language_info": {
   "codemirror_mode": {
    "name": "ipython",
    "version": 3
   },
   "file_extension": ".py",
   "mimetype": "text/x-python",
   "name": "python",
   "nbconvert_exporter": "python",
   "pygments_lexer": "ipython3",
   "version": "3.12.0"
  }
 },
 "nbformat": 4,
 "nbformat_minor": 2
}
